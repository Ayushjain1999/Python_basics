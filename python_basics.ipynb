{
 "cells": [
  {
   "cell_type": "markdown",
   "id": "149490a1-a34b-4c8a-93a9-9ea891292fc1",
   "metadata": {},
   "source": [
    "#Python_basic_question"
   ]
  },
  {
   "cell_type": "code",
   "execution_count": null,
   "id": "adb9ba42-d35f-4371-a7ff-c47ec7261987",
   "metadata": {},
   "outputs": [],
   "source": [
    "\"\"\"\n",
    "1. What is Python, and why is it popular?\n",
    "\n",
    "   -> Python is a high-level, general-purpose programming language known for its clear syntax and readability. It's popular because it's easy to learn,   has a vast standard library, supports multiple programming paradigms, and has strong community support.\n",
    "\n",
    "2. What is an interpreter in Python?\n",
    "\n",
    "   -> An interpreter is a program that executes Python code line-by-line, converting it into machine-readable instructions during runtime without the need for prior compilation.\n",
    "\n",
    "3. What are pre-defined keywords in Python?\n",
    "\n",
    "   -> Pre-defined keywords are reserved words that have special meaning in Python’s syntax, such as if, while, for, def, and class.\n",
    "\n",
    "4. Can keywords be used as variable names?\n",
    "\n",
    "   -> No, Python does not allow the use of keywords as variable names because doing so would interfere with the language’s syntax and cause errors.\n",
    "\n",
    "5. What is mutability in Python?\n",
    "\n",
    "   -> Mutability refers to whether an object can be changed after it's created. Mutable objects (like lists) can be modified in-place, while immutable objects (like strings and tuples) cannot.\n",
    "\n",
    "6. Why are lists mutable, but tuples are immutable?\n",
    "\n",
    "   -> Lists are designed for dynamic data, allowing addition, deletion, and modification. Tuples, being immutable, provide data integrity and can be used as dictionary keys or in sets.\n",
    "\n",
    "7. What is the difference between “==” and “is” operators in Python?\n",
    "\n",
    "   -> == checks if two values are equal in content, whereas is checks if they refer to the same memory location (i.e., the same object).\n",
    "\n",
    "8. What are logical operators in Python?\n",
    "\n",
    "  ->Logical operators include:\n",
    "  \n",
    "    a-> and: returns True if both operands are true\n",
    "    b-> or: returns True if at least one operand is true\n",
    "    c-> not: inverts the Boolean value (True becomes False, and vice versa)\n",
    "\n",
    "9. What is type casting in Python?\n",
    "\n",
    "   -> Type casting is the process of converting a variable from one data type to another, such as converting a string to an integer using int(\"10\").\n",
    "\n",
    "10. What is the difference between implicit and explicit type casting?\n",
    "\n",
    "   -> a->Implicit casting is done automatically by Python when no data loss is expected (e.g., int to float).\n",
    "      b->Explicit casting requires manual conversion using functions like int(), str(), float(), etc.\n",
    "\n",
    "11. What is the purpose of conditional statements in Python?\n",
    "   -> Conditional statements (if, elif, else) control the flow of the program by executing certain blocks of code based on whether specific conditions are true or false.\n",
    "\n",
    "12. How does the elif statement work?\n",
    "\n",
    "   -> The elif (short for \"else if\") statement checks a new condition if the previous if condition was false. It's used to handle multiple conditional branches.\n",
    "\n",
    "13. What is the difference between for and while loops?\n",
    "\n",
    "   -> a-> for loops are used when the number of iterations is known or when iterating over a sequence (like a list or range).\n",
    "      b->while loops run until a condition becomes false, suitable for situations where the number of iterations isn't known in advance.\n",
    "\n",
    "14. Describe a scenario where a while loop is more suitable than a for loop.\n",
    "\n",
    "   -> A while loop is more suitable when prompting a user for input until they enter a valid value or choose to quit, as the number of attempts is not fixed beforehand.\n",
    "\n",
    "\"\"\""
   ]
  },
  {
   "cell_type": "markdown",
   "id": "3c1196aa-ca49-4185-b204-0cd8d20f5c51",
   "metadata": {},
   "source": [
    "#Practical_question"
   ]
  },
  {
   "cell_type": "code",
   "execution_count": 1,
   "id": "2670d173-c5c6-41fa-8ef8-537b03ebb5be",
   "metadata": {},
   "outputs": [
    {
     "name": "stdout",
     "output_type": "stream",
     "text": [
      "Hello, World!\n"
     ]
    }
   ],
   "source": [
    "#1. Write a Python program to print \"Hello, World!\n",
    "print(\"Hello, World!\")\n"
   ]
  },
  {
   "cell_type": "code",
   "execution_count": 2,
   "id": "fea44219-8441-4c84-a1c1-62c5adc5aab8",
   "metadata": {},
   "outputs": [
    {
     "name": "stdout",
     "output_type": "stream",
     "text": [
      "Name: Ayush Jain\n",
      "Age: 25\n"
     ]
    }
   ],
   "source": [
    "#2. Write a Python program that displays your name and age\n",
    "name = \"Ayush Jain\"\n",
    "age = 25\n",
    "print(\"Name:\", name)\n",
    "print(\"Age:\", age)\n"
   ]
  },
  {
   "cell_type": "code",
   "execution_count": 3,
   "id": "ab745ef2-433d-4a66-98a6-c44086c87ab8",
   "metadata": {},
   "outputs": [
    {
     "name": "stdout",
     "output_type": "stream",
     "text": [
      "\n",
      "Here is a list of the Python keywords.  Enter any keyword to get more help.\n",
      "\n",
      "False               class               from                or\n",
      "None                continue            global              pass\n",
      "True                def                 if                  raise\n",
      "and                 del                 import              return\n",
      "as                  elif                in                  try\n",
      "assert              else                is                  while\n",
      "async               except              lambda              with\n",
      "await               finally             nonlocal            yield\n",
      "break               for                 not                 \n",
      "\n"
     ]
    }
   ],
   "source": [
    "#3. Write code to print all the pre-defined keywords in Python using the keyword library.\n",
    "help('keywords')"
   ]
  },
  {
   "cell_type": "code",
   "execution_count": 4,
   "id": "76a886e2-d342-4a58-8deb-eaa0fec27bd9",
   "metadata": {},
   "outputs": [
    {
     "name": "stdin",
     "output_type": "stream",
     "text": [
      "Enter a word to check if it is a Python keyword:  True\n"
     ]
    },
    {
     "name": "stdout",
     "output_type": "stream",
     "text": [
      "\"True\" is a Python keyword.\n"
     ]
    }
   ],
   "source": [
    "#4. Write a program that checks if a given word is a Python keyword\n",
    "import keyword\n",
    "word = input(\"Enter a word to check if it is a Python keyword: \")\n",
    "if keyword.iskeyword(word):\n",
    "    print(f'\"{word}\" is a Python keyword.')\n",
    "else:\n",
    "    print(f'\"{word}\" is NOT a Python keyword.')\n"
   ]
  },
  {
   "cell_type": "code",
   "execution_count": 5,
   "id": "b6f90b02-f6e1-4cd1-897c-ffdcf7d8002e",
   "metadata": {},
   "outputs": [
    {
     "name": "stdout",
     "output_type": "stream",
     "text": [
      "Original list: [10, 20, 30]\n",
      "Original tuple: (10, 20, 30)\n",
      "Modified list: [10, 99, 30]\n",
      "Error while modifying tuple: 'tuple' object does not support item assignment\n"
     ]
    }
   ],
   "source": [
    "#5. Create a list and tuple in Python, and demonstrate how attempting to change an element works differently for each\n",
    "my_list = [10, 20, 30]\n",
    "my_tuple = (10, 20, 30)\n",
    "\n",
    "print(\"Original list:\", my_list)\n",
    "print(\"Original tuple:\", my_tuple)\n",
    "\n",
    "my_list[1] = 99\n",
    "print(\"Modified list:\", my_list)\n",
    "\n",
    "try:\n",
    "    my_tuple[1] = 99\n",
    "except TypeError as e:\n",
    "    print(\"Error while modifying tuple:\", e)"
   ]
  },
  {
   "cell_type": "code",
   "execution_count": 6,
   "id": "9982c6c1-ac12-42a6-8bb1-9469a299b68f",
   "metadata": {},
   "outputs": [
    {
     "name": "stdout",
     "output_type": "stream",
     "text": [
      "1\n",
      "[1, 0]\n"
     ]
    }
   ],
   "source": [
    "#6. Write a function to demonstrate the behavior of mutable and immutable arguments\n",
    "def f(x, y):\n",
    "    x = 0\n",
    "    y.append(0)\n",
    "\n",
    "a = 1\n",
    "b = [1]\n",
    "f(a, b)\n",
    "print(a)  # 1\n",
    "print(b)  # [1, 0]\n"
   ]
  },
  {
   "cell_type": "code",
   "execution_count": 7,
   "id": "541b4a03-1056-4575-b389-46e041f02318",
   "metadata": {},
   "outputs": [
    {
     "name": "stdin",
     "output_type": "stream",
     "text": [
      "First number:  77\n",
      "Second number:  11\n"
     ]
    },
    {
     "name": "stdout",
     "output_type": "stream",
     "text": [
      "Add: 88.0\n",
      "Subtract: 66.0\n",
      "Multiply: 847.0\n",
      "Divide: 7.0\n"
     ]
    }
   ],
   "source": [
    "#7. Write a program that performs basic arithmetic operations on two user-input numbers\n",
    "a = float(input(\"First number: \"))\n",
    "b = float(input(\"Second number: \"))\n",
    "\n",
    "print(\"Add:\", a + b)\n",
    "print(\"Subtract:\", a - b)\n",
    "print(\"Multiply:\", a * b)\n",
    "print(\"Divide:\", a / b if b != 0 else \"Cannot divide by zero\")\n"
   ]
  },
  {
   "cell_type": "code",
   "execution_count": 8,
   "id": "5595b499-9507-498c-9c1b-468c9a366be2",
   "metadata": {},
   "outputs": [
    {
     "name": "stdout",
     "output_type": "stream",
     "text": [
      "a and b: False\n",
      "a or b: True\n",
      "not a: False\n",
      "not b: True\n"
     ]
    }
   ],
   "source": [
    "#8. Write a program to demonstrate the use of logical operators\n",
    "a = True\n",
    "b = False\n",
    "\n",
    "print(\"a and b:\", a and b)\n",
    "print(\"a or b:\", a or b)\n",
    "print(\"not a:\", not a)  \n",
    "print(\"not b:\", not b)"
   ]
  },
  {
   "cell_type": "code",
   "execution_count": 10,
   "id": "a1e0614d-4f83-466e-9933-f0679fd5e95f",
   "metadata": {},
   "outputs": [
    {
     "name": "stdin",
     "output_type": "stream",
     "text": [
      "Enter:  11\n"
     ]
    },
    {
     "name": "stdout",
     "output_type": "stream",
     "text": [
      "Int: 11\n",
      "Float: 11.0\n",
      "Bool: True\n"
     ]
    }
   ],
   "source": [
    "#9. Write a Python program to convert user input from string to integer, float, and boolean types\n",
    "s = input(\"Enter: \")\n",
    "\n",
    "try:\n",
    "    i = int(s)\n",
    "except:\n",
    "    i = None\n",
    "\n",
    "try:\n",
    "    f = float(s)\n",
    "except:\n",
    "    f = None\n",
    "\n",
    "b = bool(s.strip())\n",
    "\n",
    "print(\"Int:\", i)\n",
    "print(\"Float:\", f)\n",
    "print(\"Bool:\", b)\n"
   ]
  },
  {
   "cell_type": "code",
   "execution_count": 11,
   "id": "b9e70707-b25c-4a1f-81c9-77a3d168ee78",
   "metadata": {},
   "outputs": [
    {
     "name": "stdout",
     "output_type": "stream",
     "text": [
      "Original list: ['1', '2', '3']\n",
      "After type casting to int: [1, 2, 3]\n"
     ]
    }
   ],
   "source": [
    "#10. Write code to demonstrate type casting with list elements\n",
    "str_list = ['1', '2', '3']\n",
    "\n",
    "int_list = [int(x) for x in str_list]\n",
    "\n",
    "print(\"Original list:\", str_list)\n",
    "print(\"After type casting to int:\", int_list)\n"
   ]
  },
  {
   "cell_type": "code",
   "execution_count": 12,
   "id": "6b259df3-8014-46df-ba2a-e71ea9340fc3",
   "metadata": {},
   "outputs": [
    {
     "name": "stdin",
     "output_type": "stream",
     "text": [
      "Enter a number:  9.9\n"
     ]
    },
    {
     "name": "stdout",
     "output_type": "stream",
     "text": [
      "Positive\n"
     ]
    }
   ],
   "source": [
    "#11. Write a program that checks if a number is positive, negative, or zero\n",
    "num = float(input(\"Enter a number: \"))\n",
    "\n",
    "if num > 0:\n",
    "    print(\"Positive\")\n",
    "elif num < 0:\n",
    "    print(\"Negative\")\n",
    "else:\n",
    "    print(\"Zero\")\n"
   ]
  },
  {
   "cell_type": "code",
   "execution_count": null,
   "id": "e55273f0-24af-4941-a155-90cd2e7fbab6",
   "metadata": {},
   "outputs": [],
   "source": [
    "#12. Write a for loop to print numbers from 1 to 10\n",
    "for i in range(1, 11):\n",
    "    print(i)"
   ]
  },
  {
   "cell_type": "code",
   "execution_count": null,
   "id": "3b2f86b9-a647-45b0-b071-9f270a602011",
   "metadata": {},
   "outputs": [],
   "source": [
    "#13. Write a Python program to find the sum of all even numbers between 1 and 50\n",
    "total = 0\n",
    "for i in range(2, 51, 2):\n",
    "    total += i\n",
    "print(\"Sum of even numbers from 1 to 50:\", total)"
   ]
  },
  {
   "cell_type": "code",
   "execution_count": null,
   "id": "d81500ae-846e-454a-8704-c6c5c110d0d4",
   "metadata": {},
   "outputs": [],
   "source": [
    "#14. Write a program to reverse a string using a while loop\n",
    "s = input(\"Enter a string: \")\n",
    "rev = \"\"\n",
    "i = len(s) - 1\n",
    "\n",
    "while i >= 0:\n",
    "    rev += s[i]\n",
    "    i -= 1\n",
    "\n",
    "print(\"Reversed string:\", rev)"
   ]
  },
  {
   "cell_type": "code",
   "execution_count": null,
   "id": "c720422c-12c4-4b1d-9ff1-d008d38d4202",
   "metadata": {},
   "outputs": [],
   "source": [
    "#15. Write a Python program to calculate the factorial of a number provided by the user using a while loop \n",
    "num = int(input(\"Enter a number: \"))\n",
    "fact = 1\n",
    "i = 1\n",
    "\n",
    "while i <= num:\n",
    "    fact *= i\n",
    "    i += 1\n",
    "\n",
    "print(\"Factorial:\", fact)\n"
   ]
  }
 ],
 "metadata": {
  "kernelspec": {
   "display_name": "Python 3 (ipykernel)",
   "language": "python",
   "name": "python3"
  },
  "language_info": {
   "codemirror_mode": {
    "name": "ipython",
    "version": 3
   },
   "file_extension": ".py",
   "mimetype": "text/x-python",
   "name": "python",
   "nbconvert_exporter": "python",
   "pygments_lexer": "ipython3",
   "version": "3.11.7"
  }
 },
 "nbformat": 4,
 "nbformat_minor": 5
}
